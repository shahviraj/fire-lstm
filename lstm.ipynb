{
 "cells": [
  {
   "cell_type": "code",
   "execution_count": 2,
   "metadata": {},
   "outputs": [],
   "source": [
    "# Convolutional LSTM for time series classification\n",
    "import numpy as np\n",
    "import scipy as sc\n",
    "import cv2 as cv2\n",
    "import matplotlib.pyplot as plt\n",
    "import scipy.io as scio\n",
    "import h5py\n",
    "from sklearn.metrics import accuracy_score\n",
    "from sklearn.model_selection import train_test_split\n",
    "import tensorflow\n",
    "from PIL import Image\n",
    "from resizeimage import resizeimage\n",
    "import keras\n",
    "from keras.datasets import imdb\n",
    "from keras.models import Sequential\n",
    "from keras.layers import Dense\n",
    "from keras.layers import LSTM\n",
    "from keras.layers.convolutional import Conv1D\n",
    "from keras.layers.core import Flatten\n",
    "from keras.layers.convolutional import MaxPooling1D\n",
    "from keras.layers.embeddings import Embedding\n",
    "from keras.preprocessing import sequence"
   ]
  },
  {
   "cell_type": "code",
   "execution_count": null,
   "metadata": {
    "collapsed": true
   },
   "outputs": [],
   "source": [
    "#loading the dataset from .mat file\n",
    "comb_data = h5py.File('/local/viraj/courses/ME592x/assn3/Aditya_data/combustion_img_13.mat','r')\n",
    "X = comb_data['train_set_x'][()]\n",
    "y = comb_data['train_set_y'][()]    "
   ]
  },
  {
   "cell_type": "code",
   "execution_count": null,
   "metadata": {
    "collapsed": true
   },
   "outputs": [],
   "source": [
    "#Splitting the train and test datasets\n",
    "X_trf, X_tsf,y_trf, y_tsf = train_test_split(X.T, y, test_size=0.2)"
   ]
  },
  {
   "cell_type": "code",
   "execution_count": null,
   "metadata": {
    "collapsed": true
   },
   "outputs": [],
   "source": [
    "#Resizing the image to lower resolution: CHANGE THIS PARAMETER FOR DIFFERENT RESOLUTIONS\n",
    "resize_resolution = (64,32)\n",
    "num_features = np.prod(resize_resolution)"
   ]
  },
  {
   "cell_type": "code",
   "execution_count": null,
   "metadata": {
    "collapsed": true
   },
   "outputs": [],
   "source": [
    "#resizing and flattening the data\n",
    "X_train_final = np.zeros([43200,num_features])\n",
    "a=43200\n",
    "for i in range(0,a):\n",
    "    temp_image = X_trf[i,:] \n",
    "    temp_image = np.reshape(temp_image,[250,100])\n",
    "    temp_image = cv2.resize(temp_image, dsize=resize_resolution)\n",
    "    temp_image = np.reshape(temp_image,[num_features,])\n",
    "    X_train_final[i,:] = temp_image\n",
    "    \n",
    "X_test_final = np.zeros([10800,num_features])\n",
    "b=10800\n",
    "for i in range(0,b):\n",
    "    temp_image = X_tsf[i,:] \n",
    "    temp_image = np.reshape(temp_image,[250,100])\n",
    "    temp_image = cv2.resize(temp_image, dsize=resize_resolution)\n",
    "    temp_image = np.reshape(temp_image,[num_features,])\n",
    "    X_test_final[i,:] = temp_image\n",
    "X_train_final = np.expand_dims(X_train_final, axis=2)\n",
    "X_test_final = np.expand_dims(X_test_final, axis=2)"
   ]
  },
  {
   "cell_type": "code",
   "execution_count": null,
   "metadata": {
    "collapsed": true
   },
   "outputs": [],
   "source": [
    "#Main LSTM model\n",
    "\n",
    "# fix random seed for reproducibility\n",
    "np.random.seed(7)\n",
    "model = Sequential()\n",
    "#Convolution\n",
    "model.add(Conv1D(input_shape= (num_features,1),filters=32, kernel_size=3, padding='same', activation='relu'))\n",
    "model.add(MaxPooling1D(pool_size=2))\n",
    "#LSTM\n",
    "model.add(LSTM(100))\n",
    "model.add(Dense(1, activation='sigmoid'))\n",
    "model.compile(loss='binary_crossentropy', optimizer='adam', metrics=['accuracy'])\n",
    "print(model.summary())\n",
    "model.fit(X_train_final, y_trf, epochs=1, batch_size=128)\n",
    "# Final evaluation of the model\n",
    "scores = model.evaluate(X_test_final, y_tsf, verbose=0)\n",
    "print(\"Accuracy: %.2f%%\" % (scores[1]*100))"
   ]
  },
  {
   "cell_type": "code",
   "execution_count": null,
   "metadata": {
    "collapsed": true
   },
   "outputs": [],
   "source": []
  }
 ],
 "metadata": {
  "kernelspec": {
   "display_name": "Python 2",
   "language": "python",
   "name": "python2"
  },
  "language_info": {
   "codemirror_mode": {
    "name": "ipython",
    "version": 2
   },
   "file_extension": ".py",
   "mimetype": "text/x-python",
   "name": "python",
   "nbconvert_exporter": "python",
   "pygments_lexer": "ipython2",
   "version": "2.7.5"
  }
 },
 "nbformat": 4,
 "nbformat_minor": 2
}
