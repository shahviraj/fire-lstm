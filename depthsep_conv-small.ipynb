{
 "cells": [
  {
   "cell_type": "code",
   "execution_count": 6,
   "metadata": {
    "collapsed": true
   },
   "outputs": [],
   "source": [
    "%matplotlib inline"
   ]
  },
  {
   "cell_type": "code",
   "execution_count": 7,
   "metadata": {},
   "outputs": [],
   "source": [
    "from __future__ import print_function\n",
    "from __future__ import absolute_import\n",
    "\n",
    "import warnings\n",
    "import numpy as np\n",
    "import h5py\n",
    "from keras.preprocessing import image\n",
    "from sklearn.model_selection import train_test_split\n",
    "from keras.models import Model\n",
    "from keras import layers\n",
    "from keras.layers import Dense\n",
    "from keras.layers import Input\n",
    "from keras.layers import BatchNormalization\n",
    "from keras.layers import Activation\n",
    "from keras.layers import Conv2D\n",
    "from keras.layers import SeparableConv2D\n",
    "from keras.layers import MaxPooling2D\n",
    "from keras.layers import GlobalAveragePooling2D\n",
    "from keras.layers import GlobalMaxPooling2D\n",
    "from keras.engine.topology import get_source_inputs\n",
    "from keras.utils.data_utils import get_file\n",
    "from keras import backend as K\n",
    "from keras.applications.imagenet_utils import decode_predictions\n",
    "from keras.applications.imagenet_utils import _obtain_input_shape"
   ]
  },
  {
   "cell_type": "code",
   "execution_count": 8,
   "metadata": {
    "collapsed": true
   },
   "outputs": [],
   "source": [
    "import cv2 as cv2"
   ]
  },
  {
   "cell_type": "code",
   "execution_count": 27,
   "metadata": {
    "collapsed": true
   },
   "outputs": [],
   "source": [
    "comb_data = h5py.File('/local/viraj/courses/ME592x/assn3/Aditya_data/combustion_img_13.mat','r')\n",
    "X = comb_data['train_set_x'][()]\n",
    "y = comb_data['train_set_y'][()]"
   ]
  },
  {
   "cell_type": "code",
   "execution_count": 28,
   "metadata": {
    "collapsed": true
   },
   "outputs": [],
   "source": [
    "X_trf, X_tsf,y_trf, y_tsf = train_test_split(X.T, y, test_size=0.4)"
   ]
  },
  {
   "cell_type": "code",
   "execution_count": 50,
   "metadata": {
    "collapsed": true
   },
   "outputs": [],
   "source": [
    "#Resizing the image to lower resolution in (width, height): CHANGE THIS PARAMETER FOR DIFFERENT RESOLUTIONS\n",
    "width = 100\n",
    "height = 100\n",
    "num_features = width*height"
   ]
  },
  {
   "cell_type": "code",
   "execution_count": 51,
   "metadata": {
    "collapsed": true
   },
   "outputs": [],
   "source": [
    "a=np.shape(X_trf)[0]\n",
    "X_train_final = np.zeros([a,num_features])\n",
    "for i in range(0,a):\n",
    "    temp_image = X_trf[i,:] \n",
    "    temp_image = np.reshape(temp_image,[250,100])\n",
    "    temp_image = temp_image.T\n",
    "    temp_image = cv2.resize(temp_image, dsize=((width,height)))\n",
    "    temp_image = np.reshape(temp_image,[num_features,])\n",
    "    X_train_final[i,:] = temp_image\n",
    "    \n",
    "b = np.shape(X_tsf)[0]\n",
    "X_test_final = np.zeros([b,num_features])\n",
    "for i in range(0,b):\n",
    "    temp_image = X_tsf[i,:] \n",
    "    temp_image = np.reshape(temp_image,[250,100])\n",
    "    temp_image = temp_image.T\n",
    "    temp_image = cv2.resize(temp_image, dsize=(width,height))\n",
    "    temp_image = np.reshape(temp_image,[num_features,])\n",
    "    X_test_final[i,:] = temp_image"
   ]
  },
  {
   "cell_type": "code",
   "execution_count": 52,
   "metadata": {
    "collapsed": true
   },
   "outputs": [],
   "source": [
    "X_train_final = X_train_final.reshape([a,height,width,1])\n",
    "X_test_final = X_test_final.reshape([b,height,width,1])"
   ]
  },
  {
   "cell_type": "code",
   "execution_count": 53,
   "metadata": {
    "collapsed": true
   },
   "outputs": [],
   "source": [
    "from keras.utils import to_categorical\n",
    "y_trf_oh = to_categorical(y_trf)\n",
    "y_tsf_oh = to_categorical(y_tsf)"
   ]
  },
  {
   "cell_type": "code",
   "execution_count": 54,
   "metadata": {},
   "outputs": [],
   "source": [
    "def SmallXception(input_shape=(100, 100, 1),\n",
    "                  classes=2):\n",
    "    img_input = Input(shape=input_shape)\n",
    "\n",
    "    x = Conv2D(32, (3, 3), strides=(2, 2), use_bias=False)(img_input)\n",
    "    #x = BatchNormalization()(x)\n",
    "    x = Activation('relu')(x)\n",
    "    x = MaxPooling2D((3, 3), strides=(2, 2))(x)\n",
    "\n",
    "    x = SeparableConv2D(128, (3, 3), use_bias=False)(x)\n",
    "    #x = BatchNormalization()(x)\n",
    "    x = Activation('relu')(x)\n",
    "    x = SeparableConv2D(128, (3, 3), use_bias=False)(x)\n",
    "    #x = BatchNormalization()(x)\n",
    "\n",
    "    x = MaxPooling2D((3, 3), strides=(2, 2))(x)\n",
    "\n",
    "    x = SeparableConv2D(256, (3, 3), use_bias=False)(x)\n",
    "    #x = BatchNormalization()(x)\n",
    "    x = Activation('relu')(x)\n",
    "    x = SeparableConv2D(256, (3, 3), use_bias=False)(x)\n",
    "    #x = BatchNormalization()(x)\n",
    "\n",
    "    x = MaxPooling2D((3, 3), strides=(2, 2))(x)\n",
    "\n",
    "    #x = SeparableConv2D(512, (3, 3), use_bias=False)(x)\n",
    "    #x = BatchNormalization()(x)\n",
    "    #x = Activation('relu')(x)\n",
    "    #x = SeparableConv2D(512, (3, 3), use_bias=False)(x)\n",
    "    #x = BatchNormalization()(x)\n",
    "\n",
    "    x = GlobalAveragePooling2D(name='avg_pool')(x)\n",
    "    x = Dense(classes, activation='softmax', name='predictions')(x)\n",
    "\n",
    "    # Create model.\n",
    "    model = Model(img_input, x)\n",
    "    return model"
   ]
  },
  {
   "cell_type": "code",
   "execution_count": 55,
   "metadata": {},
   "outputs": [
    {
     "name": "stdout",
     "output_type": "stream",
     "text": [
      "_________________________________________________________________\n",
      "Layer (type)                 Output Shape              Param #   \n",
      "=================================================================\n",
      "input_11 (InputLayer)        (None, 100, 100, 1)       0         \n",
      "_________________________________________________________________\n",
      "conv2d_11 (Conv2D)           (None, 49, 49, 32)        288       \n",
      "_________________________________________________________________\n",
      "activation_28 (Activation)   (None, 49, 49, 32)        0         \n",
      "_________________________________________________________________\n",
      "max_pooling2d_20 (MaxPooling (None, 24, 24, 32)        0         \n",
      "_________________________________________________________________\n",
      "separable_conv2d_37 (Separab (None, 22, 22, 128)       4384      \n",
      "_________________________________________________________________\n",
      "activation_29 (Activation)   (None, 22, 22, 128)       0         \n",
      "_________________________________________________________________\n",
      "separable_conv2d_38 (Separab (None, 20, 20, 128)       17536     \n",
      "_________________________________________________________________\n",
      "max_pooling2d_21 (MaxPooling (None, 9, 9, 128)         0         \n",
      "_________________________________________________________________\n",
      "separable_conv2d_39 (Separab (None, 7, 7, 256)         33920     \n",
      "_________________________________________________________________\n",
      "activation_30 (Activation)   (None, 7, 7, 256)         0         \n",
      "_________________________________________________________________\n",
      "separable_conv2d_40 (Separab (None, 5, 5, 256)         67840     \n",
      "_________________________________________________________________\n",
      "max_pooling2d_22 (MaxPooling (None, 2, 2, 256)         0         \n",
      "_________________________________________________________________\n",
      "avg_pool (GlobalAveragePooli (None, 256)               0         \n",
      "_________________________________________________________________\n",
      "predictions (Dense)          (None, 2)                 514       \n",
      "=================================================================\n",
      "Total params: 124,482.0\n",
      "Trainable params: 124,482.0\n",
      "Non-trainable params: 0.0\n",
      "_________________________________________________________________\n",
      "Input image shape: (32400, 100, 100, 1)\n",
      "Epoch 1/1\n",
      "32400/32400 [==============================] - 54s - loss: 0.0867 - acc: 0.9618    \n",
      "Accuracy: 99.75%\n"
     ]
    }
   ],
   "source": [
    "if __name__ == '__main__':\n",
    "    model = SmallXception()\n",
    "    model.summary()\n",
    "    \n",
    "    print('Input image shape:', X_train_final.shape)\n",
    "    model.compile(loss='binary_crossentropy', optimizer='adam', metrics=['accuracy'])\n",
    "    model.fit(X_train_final, y_trf_oh[0:a], epochs=1, batch_size=32)\n",
    "   \n",
    "    \n",
    "    scores = model.evaluate(X_test_final, y_tsf_oh[0:b], verbose=0)\n",
    "    print(\"Accuracy: %.2f%%\" % (scores[1]*100))"
   ]
  }
 ],
 "metadata": {
  "kernelspec": {
   "display_name": "Python 2",
   "language": "python",
   "name": "python2"
  },
  "language_info": {
   "codemirror_mode": {
    "name": "ipython",
    "version": 2
   },
   "file_extension": ".py",
   "mimetype": "text/x-python",
   "name": "python",
   "nbconvert_exporter": "python",
   "pygments_lexer": "ipython2",
   "version": "2.7.5"
  }
 },
 "nbformat": 4,
 "nbformat_minor": 2
}
